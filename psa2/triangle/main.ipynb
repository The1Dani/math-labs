{
 "cells": [
  {
   "cell_type": "code",
   "execution_count": 1,
   "metadata": {},
   "outputs": [],
   "source": [
    "import random"
   ]
  },
  {
   "cell_type": "code",
   "execution_count": 37,
   "metadata": {},
   "outputs": [],
   "source": [
    "def is_triangle(a, b, c):\n",
    "    return a + b > c and a + c > b and b + c > a"
   ]
  },
  {
   "cell_type": "code",
   "execution_count": 65,
   "metadata": {},
   "outputs": [],
   "source": [
    "def experiment():\n",
    "    first_break = random.random()\n",
    "    if 1 - first_break > 0.5:\n",
    "        second_break = random.random() * (1 - first_break)\n",
    "    else:\n",
    "        second_break = random.random() * first_break\n",
    "\n",
    "    if first_break > second_break:\n",
    "        first_length = first_break - second_break\n",
    "        second_length = 1 - first_break\n",
    "        third_length = second_break\n",
    "    else:\n",
    "        first_length = second_break - first_break\n",
    "        second_length = 1 - second_break\n",
    "        third_length = first_break\n",
    "\n",
    "    # print(first_length, second_length, third_length)\n",
    "    # print(first_length + second_length + third_length)\n",
    "\n",
    "    return is_triangle(first_length, second_length, third_length)\n"
   ]
  },
  {
   "cell_type": "code",
   "execution_count": 90,
   "metadata": {},
   "outputs": [
    {
     "name": "stdout",
     "output_type": "stream",
     "text": [
      "31 Triangles out of 100\n",
      "69 Non-Triangles out of 100\n"
     ]
    }
   ],
   "source": [
    "count = 0\n",
    "for i in range(100):\n",
    "    if experiment():\n",
    "        count += 1\n",
    "\n",
    "print(count, \"Triangles out of 100\")\n",
    "print(100 - count, \"Non-Triangles out of 100\")\n"
   ]
  }
 ],
 "metadata": {
  "kernelspec": {
   "display_name": "usr",
   "language": "python",
   "name": "python3"
  },
  "language_info": {
   "codemirror_mode": {
    "name": "ipython",
    "version": 3
   },
   "file_extension": ".py",
   "mimetype": "text/x-python",
   "name": "python",
   "nbconvert_exporter": "python",
   "pygments_lexer": "ipython3",
   "version": "3.13.0"
  }
 },
 "nbformat": 4,
 "nbformat_minor": 2
}
